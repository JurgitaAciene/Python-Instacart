{
 "cells": [
  {
   "cell_type": "markdown",
   "id": "91f514e9",
   "metadata": {},
   "source": [
    "# List of Contents\n",
    "\n",
    "### 01 Importing libraries\n",
    "\n",
    "### 02 Data Types"
   ]
  },
  {
   "cell_type": "markdown",
   "id": "7f401a40",
   "metadata": {},
   "source": [
    "# 01 Importing libraries"
   ]
  },
  {
   "cell_type": "code",
   "execution_count": 1,
   "id": "013c7fa6",
   "metadata": {},
   "outputs": [],
   "source": [
    "# Import libraries\n",
    "import pandas as pd\n",
    "import numpy as np\n",
    "import os"
   ]
  },
  {
   "cell_type": "markdown",
   "id": "023b23b6",
   "metadata": {},
   "source": [
    "# 02 Data Types"
   ]
  },
  {
   "cell_type": "code",
   "execution_count": 2,
   "id": "48297f29",
   "metadata": {},
   "outputs": [],
   "source": [
    "a=200"
   ]
  },
  {
   "cell_type": "code",
   "execution_count": 3,
   "id": "88fac991",
   "metadata": {},
   "outputs": [],
   "source": [
    "b=2"
   ]
  },
  {
   "cell_type": "code",
   "execution_count": 4,
   "id": "f9575c2e",
   "metadata": {},
   "outputs": [],
   "source": [
    "c=25"
   ]
  },
  {
   "cell_type": "code",
   "execution_count": 5,
   "id": "3adefdde",
   "metadata": {},
   "outputs": [
    {
     "data": {
      "text/plain": [
       "100.0"
      ]
     },
     "execution_count": 5,
     "metadata": {},
     "output_type": "execute_result"
    }
   ],
   "source": [
    "a/b"
   ]
  },
  {
   "cell_type": "code",
   "execution_count": 6,
   "id": "9d3711e4",
   "metadata": {},
   "outputs": [
    {
     "data": {
      "text/plain": [
       "100"
      ]
     },
     "execution_count": 6,
     "metadata": {},
     "output_type": "execute_result"
    }
   ],
   "source": [
    "c*b*b"
   ]
  },
  {
   "cell_type": "code",
   "execution_count": 7,
   "id": "19d3b856",
   "metadata": {},
   "outputs": [
    {
     "data": {
      "text/plain": [
       "100"
      ]
     },
     "execution_count": 7,
     "metadata": {},
     "output_type": "execute_result"
    }
   ],
   "source": [
    "a-(c*b*b)"
   ]
  },
  {
   "cell_type": "code",
   "execution_count": 8,
   "id": "d0027570",
   "metadata": {},
   "outputs": [],
   "source": [
    "x=9.375"
   ]
  },
  {
   "cell_type": "code",
   "execution_count": 9,
   "id": "e18d2517",
   "metadata": {},
   "outputs": [],
   "source": [
    "y=3.75"
   ]
  },
  {
   "cell_type": "code",
   "execution_count": 10,
   "id": "fc77d019",
   "metadata": {},
   "outputs": [
    {
     "data": {
      "text/plain": [
       "2.5"
      ]
     },
     "execution_count": 10,
     "metadata": {},
     "output_type": "execute_result"
    }
   ],
   "source": [
    "x/y"
   ]
  },
  {
   "cell_type": "code",
   "execution_count": 18,
   "id": "727dbebc",
   "metadata": {},
   "outputs": [],
   "source": [
    "g='grape'"
   ]
  },
  {
   "cell_type": "code",
   "execution_count": 19,
   "id": "eb2ca136",
   "metadata": {},
   "outputs": [],
   "source": [
    "f='fruit'"
   ]
  },
  {
   "cell_type": "code",
   "execution_count": 20,
   "id": "3c4208ea",
   "metadata": {},
   "outputs": [
    {
     "data": {
      "text/plain": [
       "'grapefruit'"
      ]
     },
     "execution_count": 20,
     "metadata": {},
     "output_type": "execute_result"
    }
   ],
   "source": [
    "g+f"
   ]
  },
  {
   "cell_type": "code",
   "execution_count": 35,
   "id": "ea2c04d3",
   "metadata": {},
   "outputs": [],
   "source": [
    "a='a '"
   ]
  },
  {
   "cell_type": "code",
   "execution_count": 36,
   "id": "36dc8b27",
   "metadata": {},
   "outputs": [],
   "source": [
    "c='car '"
   ]
  },
  {
   "cell_type": "code",
   "execution_count": 37,
   "id": "933cc1ee",
   "metadata": {},
   "outputs": [],
   "source": [
    "t='tree '"
   ]
  },
  {
   "cell_type": "code",
   "execution_count": 38,
   "id": "f2561dd7",
   "metadata": {},
   "outputs": [],
   "source": [
    "l='leaves '"
   ]
  },
  {
   "cell_type": "code",
   "execution_count": 39,
   "id": "f72a2841",
   "metadata": {},
   "outputs": [],
   "source": [
    "s='shed '"
   ]
  },
  {
   "cell_type": "code",
   "execution_count": 40,
   "id": "2d6c5e55",
   "metadata": {},
   "outputs": [],
   "source": [
    "i='its '"
   ]
  },
  {
   "cell_type": "code",
   "execution_count": 41,
   "id": "fc7eec70",
   "metadata": {},
   "outputs": [
    {
     "data": {
      "text/plain": [
       "'a car leaves its shed '"
      ]
     },
     "execution_count": 41,
     "metadata": {},
     "output_type": "execute_result"
    }
   ],
   "source": [
    "a+c+l+i+s"
   ]
  },
  {
   "cell_type": "code",
   "execution_count": 42,
   "id": "246be82f",
   "metadata": {},
   "outputs": [
    {
     "data": {
      "text/plain": [
       "'a tree shed its leaves '"
      ]
     },
     "execution_count": 42,
     "metadata": {},
     "output_type": "execute_result"
    }
   ],
   "source": [
    "a+t+s+i+l"
   ]
  }
 ],
 "metadata": {
  "kernelspec": {
   "display_name": "Python 3 (ipykernel)",
   "language": "python",
   "name": "python3"
  },
  "language_info": {
   "codemirror_mode": {
    "name": "ipython",
    "version": 3
   },
   "file_extension": ".py",
   "mimetype": "text/x-python",
   "name": "python",
   "nbconvert_exporter": "python",
   "pygments_lexer": "ipython3",
   "version": "3.10.9"
  }
 },
 "nbformat": 4,
 "nbformat_minor": 5
}
